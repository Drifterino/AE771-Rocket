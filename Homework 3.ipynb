{
 "cells": [
  {
   "cell_type": "code",
   "execution_count": 1,
   "metadata": {},
   "outputs": [],
   "source": [
    "#Python Initiation\n",
    "import matplotlib\n",
    "import numpy as np\n",
    "import matplotlib.pyplot as plt\n",
    "from scipy.interpolate import make_interp_spline, BSpline\n",
    "import pandas as pd\n",
    "import ipywidgets as widgets\n",
    "import time\n",
    "import math\n",
    "from IPython.display import display\n",
    "\n",
    "#Graph Formatting\n",
    "fig_size = plt.rcParams[\"figure.figsize\"]\n",
    "fig_size[0] = 14\n",
    "fig_size[1] = 10\n",
    "plt.rcParams[\"figure.figsize\"] = fig_size\n",
    "Res=100 #Resoultion of the calulations\n",
    "\n",
    "#Graph Font Edit\n",
    "font = {'family':'Times New Roman',\n",
    "        'weight' : 'bold',\n",
    "        'size'   : 22}\n",
    "matplotlib.rc('font', **font)\n"
   ]
  },
  {
   "cell_type": "code",
   "execution_count": 2,
   "metadata": {},
   "outputs": [
    {
     "name": "stdout",
     "output_type": "stream",
     "text": [
      "Ideal Chamber Pressure: 1.8403275486388506 MPa\n",
      "Ideal Nozzle Area Ratio: 3.0193113001191674\n"
     ]
    }
   ],
   "source": [
    "#Homework 3\n",
    "\n",
    "#Given\n",
    "M2=2.52        #Mach number at Exit | Unitless\n",
    "k=1.3          #Specific Heat Ratio | Unitless\n",
    "P=0.1013       #Pressure @ Sea-level | MPa\n",
    "\n",
    "#Calculations\n",
    "Po=P*(1+0.5*(k-1)*M2**2)**(k/(k-1))                             #Total Stagnation Pressure or Ideal Chamber Pressure | MPa\n",
    "ε=(1/M2)*(((1+((k-1)/2)*M2**2)/((k+1)/2))**((k+1)/(2*(k-1))))   #Ideal Nozzle Area Ratio | Unitless\n",
    "\n",
    "#outputs\n",
    "print(\"Ideal Chamber Pressure:\",Po,\"MPa\")\n",
    "print(\"Ideal Nozzle Area Ratio:\",ε)\n"
   ]
  },
  {
   "cell_type": "code",
   "execution_count": null,
   "metadata": {},
   "outputs": [],
   "source": []
  }
 ],
 "metadata": {
  "kernelspec": {
   "display_name": "Python 3",
   "language": "python",
   "name": "python3"
  },
  "language_info": {
   "codemirror_mode": {
    "name": "ipython",
    "version": 3
   },
   "file_extension": ".py",
   "mimetype": "text/x-python",
   "name": "python",
   "nbconvert_exporter": "python",
   "pygments_lexer": "ipython3",
   "version": "3.7.4"
  }
 },
 "nbformat": 4,
 "nbformat_minor": 2
}
