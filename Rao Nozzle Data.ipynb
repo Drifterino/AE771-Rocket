{
 "cells": [
  {
   "cell_type": "code",
   "execution_count": 2,
   "metadata": {},
   "outputs": [],
   "source": [
    "#Python Initiation\n",
    "import matplotlib\n",
    "import numpy as np\n",
    "import matplotlib.pyplot as plt\n",
    "from scipy.interpolate import make_interp_spline, BSpline\n",
    "import pandas as pd\n",
    "import ipywidgets as widgets\n",
    "import time\n",
    "import math\n",
    "from IPython.display import display\n",
    "\n",
    "#Graph Formatting\n",
    "fig_size = plt.rcParams[\"figure.figsize\"]\n",
    "fig_size[0] = 14\n",
    "fig_size[1] = 10\n",
    "plt.rcParams[\"figure.figsize\"] = fig_size\n",
    "Res=100 #Resoultion of the calulations\n",
    "\n",
    "#Graph Font Edit\n",
    "font = {'family':'Times New Roman',\n",
    "        'weight' : 'bold',\n",
    "        'size'   : 22}\n",
    "matplotlib.rc('font', **font)\n"
   ]
  },
  {
   "cell_type": "code",
   "execution_count": null,
   "metadata": {},
   "outputs": [],
   "source": [
    "#Rao Nozzle Data\n",
    "\n",
    "#SSME Data\n",
    "Dt=10.3  #Throat Diameter | in\n",
    "Rt=Dt/2  #Throat Radius | in\n",
    "De=90.7  #Exit Diameter | in\n",
    "Re=De/2  #Exit Radius |in\n",
    "Ln=121   #Nozzle Length | in\n",
    "ε=77.5   #Area Radio | unitless\n",
    "\n",
    "#Calculations\n",
    "Ln_cone=((np.sqrt(ε)-1)*Rt)/(tan(15))\n",
    "Re=np.sqrt(ε)*Rt\n",
    "θen=np.arange(-135,-90,0.01)\n",
    "θe=np.arange(-90,(θn-90),0.01)\n",
    "t=np.arange(0,1,0.01)\n",
    "Ex=np.arange(0,Ln_cone,0.01)\n",
    "Ey=np.arange(0,Re,0.01)\n",
    "NQ=m1*x+C1\n",
    "QE=m2*x+C2\n",
    "m1=tan(θn)\n",
    "m2=tan(θe)\n",
    "C1=Ny-m1*Nx\n",
    "C2=Ey-m2*Ex\n",
    "Qx=(C2-C1)/(m1-m2)\n",
    "Qy=((m1*C2)-(m2*C1))/(m1-m2)\n",
    "\n",
    "#Plotting Points\n",
    "\n",
    "#Throat\n",
    "xen=1.5*Rt*cos(θen)\n",
    "yen=1.5*Rt*sin(θen)+1.5*Rt+Rt\n",
    "\n",
    "xe=0.382*Rt*cos(θe)\n",
    "ye=0.382*Rt*sin(θe)+0.382*Rt+Rt\n",
    "\n",
    "#Bell\n",
    "xt=(1-t)**2*Nx+2*(1-t)*t+t**2*Ex\n",
    "yt=(1-t)**2*Ny+2*(1-t)*t+t**2*Ey\n"
   ]
  }
 ],
 "metadata": {
  "kernelspec": {
   "display_name": "Python 3",
   "language": "python",
   "name": "python3"
  },
  "language_info": {
   "codemirror_mode": {
    "name": "ipython",
    "version": 3
   },
   "file_extension": ".py",
   "mimetype": "text/x-python",
   "name": "python",
   "nbconvert_exporter": "python",
   "pygments_lexer": "ipython3",
   "version": "3.7.4"
  }
 },
 "nbformat": 4,
 "nbformat_minor": 2
}
