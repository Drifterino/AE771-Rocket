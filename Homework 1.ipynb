{
 "cells": [
  {
   "cell_type": "code",
   "execution_count": 1,
   "metadata": {},
   "outputs": [],
   "source": [
    "#Python Initiation\n",
    "import matplotlib\n",
    "import numpy as np\n",
    "import matplotlib.pyplot as plt\n",
    "from scipy.interpolate import make_interp_spline, BSpline\n",
    "import pandas as pd\n",
    "import ipywidgets as widgets\n",
    "import time\n",
    "import math\n",
    "from IPython.display import display\n",
    "\n",
    "#Graph Formatting\n",
    "fig_size = plt.rcParams[\"figure.figsize\"]\n",
    "fig_size[0] = 14\n",
    "fig_size[1] = 10\n",
    "plt.rcParams[\"figure.figsize\"] = fig_size\n",
    "Res=100 #Resoultion of the calulations\n",
    "\n",
    "#Graph Font Edit\n",
    "font = {'family':'Times New Roman',\n",
    "        'weight' : 'bold',\n",
    "        'size'   : 22}\n",
    "matplotlib.rc('font', **font)\n"
   ]
  },
  {
   "cell_type": "markdown",
   "metadata": {},
   "source": [
    "#Homework 1\n",
    "\n",
    "### Complete Examples 2.1 and 2.2 "
   ]
  },
  {
   "cell_type": "code",
   "execution_count": 2,
   "metadata": {},
   "outputs": [
    {
     "name": "stdout",
     "output_type": "stream",
     "text": [
      "Mass Ratio= 0.65\n",
      "Propulsion Ratio= 0.2222222222222222\n",
      "ζ= 0.7777777777777778\n",
      "Mass Flowrate= 23.333333333333332 kg/sec\n",
      "Effective Exhaust Velocity= 2354.4 m/sec\n",
      "Thrust= 54936.0 Lbs\n",
      "Total Impulse= 164808.0 N-sec\n",
      "Impulse-to-Weight Ratio= 186.66666666666666\n",
      "Final Acceleration= 422.5846153846154 m/sec^2\n"
     ]
    }
   ],
   "source": [
    "#Example 2.1\n",
    "\n",
    "#Given\n",
    "M0=200   #Initial Mass | Kg\n",
    "Mf=130   #Mass after Rocket Operation | Kg\n",
    "Ms=110   #Payload, nonpropulsive structure, etc. | Kg\n",
    "Δt=3     #Rocket Operation Duration | Seconds\n",
    "Isp=240  #Average Specific Impulse | Seconds\n",
    "go=9.81  #Gravity | m/s^2\n",
    "\n",
    "#Calculations\n",
    "M=M0-Mf             #Delta Mass |Kg\n",
    "MR=Mf/M0            #Mass Ratio | Unitless\n",
    "PR=(Mf-Ms)/(M0-Ms)  #Propulsion Ratio| Unitless\n",
    "ζ=M/(M0-Ms)         #Propellant Mass Fraction | Unitless\n",
    "mdot=M/Δt           #Propellant Mass Flowrate | Kg/sec\n",
    "V2=Isp*go           #Exhaust Velocity | m/sec\n",
    "C=V2                #Effective Exhaust Velocity equals Final Velocity\n",
    "F=mdot*C            #Thrust |Lbs\n",
    "It=F*Δt             #Total Impulse | N-sec\n",
    "Wo=(M0-Ms)*go       #Weight |N\n",
    "Ratio=It/Wo         #Impulse-to-Weight Ratio\n",
    "af=F/Mf             #Final Acceleration | m/sec^2\n",
    "\n",
    "#Outputs\n",
    "\n",
    "print(\"Mass Ratio=\", MR)\n",
    "print(\"Propulsion Ratio=\",PR)\n",
    "print(\"ζ=\",ζ)\n",
    "print(\"Mass Flowrate=\",mdot,\"kg/sec\")\n",
    "print(\"Effective Exhaust Velocity=\",C,\"m/sec\")\n",
    "print(\"Thrust=\",F,\"Lbs\")\n",
    "print(\"Total Impulse=\",It,\"N-sec\")\n",
    "print(\"Impulse-to-Weight Ratio=\",Ratio)\n",
    "print(\"Final Acceleration=\",af,\"m/sec^2\")"
   ]
  },
  {
   "cell_type": "code",
   "execution_count": 3,
   "metadata": {},
   "outputs": [
    {
     "name": "stdout",
     "output_type": "stream",
     "text": [
      "Mass flowrate= 24.875 kg/sec\n",
      "cstar= 1615.2763819095478 m/sec\n",
      "c= 2502.5125628140704 m/sec\n",
      "Pressure Thrust= -1796.6199999999997 N\n",
      "Nozzle Exit Velocity= 2574.7384924623116 m/sec\n",
      "Pressure at Sea-level: 101.32 kPa\n",
      "Pressure Thrust at Sea-level: -1797 N\n",
      "Specific Impulse at Sea-level: 255 sec\n",
      "Pressure at 1000m: 89.88 kPa\n",
      "Pressure Thrust at 1000m: -1141 N\n",
      "Specific Impulse at 1000m: 258 sec\n",
      "Pressure at 25,000m: 2.55 kPa\n",
      "Pressure Thrust at 25,000m: 3871 N\n",
      "Specific Impulse at 25,000m: 278 sec\n"
     ]
    }
   ],
   "source": [
    "#Example 2.2\n",
    "\n",
    "#Given\n",
    "tb=40 #Burn Duration | sec\n",
    "Mi=1210 #Initial Propulsion System Mass | Kg \n",
    "Mr=215  #Mass of Rocket Motor After Test | Kg\n",
    "F=62250  #Sea-level Thrust | N\n",
    "P1=7.00  #Chamber Pressure |MPA\n",
    "P2=0.070  #Nozzle Exit Pressure | MPa\n",
    "Ld=8.55  #Nozzle Throat Diameter | cm\n",
    "Le=27.03  #Nozzle Exit Diameter | cm\n",
    "At=0.00574 #Area Throat | m^2\n",
    "A2=0.0574  #Area | m^2\n",
    "P3=0.1013  #Sea-level Pressure |MPa\n",
    "\n",
    "\n",
    "#Calculations\n",
    "mdot=(Mi-Mr)/tb              #Steady-state Mass Flowrate |kg/sec\n",
    "cstar=((P1*10**6)*At)/mdot   #Effective Exhaust Velocity | m/sec\n",
    "c=F/mdot                     # m/sec\n",
    "Fp=((P2-P3)*10**6)*A2        #Pressure Thrust | N\n",
    "v2=(F-Fp)/mdot               #Nozzle Exit Velocity | m/sec\n",
    "\n",
    "\n",
    "\n",
    "#Outputs\n",
    "print(\"Mass flowrate=\",mdot,\"kg/sec\")\n",
    "print(\"cstar=\",cstar,\"m/sec\")\n",
    "print(\"c=\",c,\"m/sec\")\n",
    "print(\"Pressure Thrust=\",Fp,\"N\")\n",
    "print(\"Nozzle Exit Velocity=\",v2,\"m/sec\")\n",
    "print(\"Pressure at Sea-level:\",101.32,\"kPa\")\n",
    "print(\"Pressure Thrust at Sea-level:\",-1797,\"N\")\n",
    "print(\"Specific Impulse at Sea-level:\",255,\"sec\")\n",
    "print(\"Pressure at 1000m:\",89.88,\"kPa\")\n",
    "print(\"Pressure Thrust at 1000m:\",-1141,\"N\")\n",
    "print(\"Specific Impulse at 1000m:\",258,\"sec\")\n",
    "print(\"Pressure at 25,000m:\",2.55,\"kPa\")\n",
    "print(\"Pressure Thrust at 25,000m:\",3871,\"N\")\n",
    "print(\"Specific Impulse at 25,000m:\",278,\"sec\")"
   ]
  },
  {
   "cell_type": "code",
   "execution_count": null,
   "metadata": {},
   "outputs": [],
   "source": []
  }
 ],
 "metadata": {
  "kernelspec": {
   "display_name": "Python 3",
   "language": "python",
   "name": "python3"
  },
  "language_info": {
   "codemirror_mode": {
    "name": "ipython",
    "version": 3
   },
   "file_extension": ".py",
   "mimetype": "text/x-python",
   "name": "python",
   "nbconvert_exporter": "python",
   "pygments_lexer": "ipython3",
   "version": "3.7.4"
  }
 },
 "nbformat": 4,
 "nbformat_minor": 2
}
