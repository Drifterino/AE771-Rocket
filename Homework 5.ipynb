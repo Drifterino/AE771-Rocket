{
 "cells": [
  {
   "cell_type": "code",
   "execution_count": null,
   "metadata": {},
   "outputs": [],
   "source": [
    "#Python Initiation\n",
    "import matplotlib\n",
    "import numpy as np\n",
    "import matplotlib.pyplot as plt\n",
    "from scipy.interpolate import make_interp_spline, BSpline\n",
    "import pandas as pd\n",
    "import ipywidgets as widgets\n",
    "import time\n",
    "import math\n",
    "from IPython.display import display\n",
    "\n",
    "#Graph Formatting\n",
    "fig_size = plt.rcParams[\"figure.figsize\"]\n",
    "fig_size[0] = 14\n",
    "fig_size[1] = 10\n",
    "plt.rcParams[\"figure.figsize\"] = fig_size\n",
    "Res=100 #Resoultion of the calulations\n",
    "\n",
    "#Graph Font Edit\n",
    "font = {'family':'Times New Roman',\n",
    "        'weight' : 'bold',\n",
    "        'size'   : 22}\n",
    "matplotlib.rc('font', **font)\n"
   ]
  },
  {
   "cell_type": "code",
   "execution_count": 4,
   "metadata": {},
   "outputs": [
    {
     "ename": "NameError",
     "evalue": "name 'np' is not defined",
     "output_type": "error",
     "traceback": [
      "\u001b[1;31m---------------------------------------------------------------------------\u001b[0m",
      "\u001b[1;31mNameError\u001b[0m                                 Traceback (most recent call last)",
      "\u001b[1;32m<ipython-input-4-f2532fd4c32e>\u001b[0m in \u001b[0;36m<module>\u001b[1;34m\u001b[0m\n\u001b[0;32m     19\u001b[0m \u001b[0mk\u001b[0m\u001b[1;33m=\u001b[0m\u001b[1;36m1.20\u001b[0m\u001b[1;33m\u001b[0m\u001b[1;33m\u001b[0m\u001b[0m\n\u001b[0;32m     20\u001b[0m \u001b[0mEpsln\u001b[0m\u001b[1;33m=\u001b[0m\u001b[1;36m50\u001b[0m\u001b[1;33m\u001b[0m\u001b[1;33m\u001b[0m\u001b[0m\n\u001b[1;32m---> 21\u001b[1;33m \u001b[0mp1p2\u001b[0m\u001b[1;33m=\u001b[0m\u001b[0mnp\u001b[0m\u001b[1;33m.\u001b[0m\u001b[0marange\u001b[0m\u001b[1;33m(\u001b[0m\u001b[1;36m10.0\u001b[0m\u001b[1;33m,\u001b[0m\u001b[1;36m10000.1\u001b[0m\u001b[1;33m,\u001b[0m\u001b[1;36m0.1\u001b[0m\u001b[1;33m)\u001b[0m\u001b[1;33m\u001b[0m\u001b[1;33m\u001b[0m\u001b[0m\n\u001b[0m\u001b[0;32m     22\u001b[0m \u001b[0mp2p1\u001b[0m\u001b[1;33m=\u001b[0m\u001b[0mp1p2\u001b[0m\u001b[1;33m**\u001b[0m\u001b[1;33m-\u001b[0m\u001b[1;36m1\u001b[0m\u001b[1;33m\u001b[0m\u001b[1;33m\u001b[0m\u001b[0m\n\u001b[0;32m     23\u001b[0m \u001b[0mCf\u001b[0m\u001b[1;33m=\u001b[0m\u001b[0mCfIdeal\u001b[0m\u001b[1;33m(\u001b[0m\u001b[0mk\u001b[0m\u001b[1;33m,\u001b[0m\u001b[0mp2p1\u001b[0m\u001b[1;33m)\u001b[0m\u001b[1;33m\u001b[0m\u001b[1;33m\u001b[0m\u001b[0m\n",
      "\u001b[1;31mNameError\u001b[0m: name 'np' is not defined"
     ]
    }
   ],
   "source": [
    "#Homework 5\n",
    "\n",
    "    #Figure 3.5\n",
    "    \n",
    "def CfIdeal(k,p2p1):\n",
    "        Cf=(((2*k**2)/(k-1))*(2/(k+1))**((k+1)/(k-1))*(1-(p2p1)**((k-1)/k)))**0.5\n",
    "        return Cf\n",
    "def AreaRatio(k,p2p1):\n",
    "        AR=((k+1)/2)**(1/(k-1))*(p2p1)**(1/k)*(((k+1)/(k-1))*(1-p2p1**((k-1)/k)))**0.5\n",
    "        AR=AR**-1\n",
    "        return AR\n",
    "def FindEpsln(numbers,eps):   \n",
    "         numbers = np.asarray(numbers) \n",
    "         i=(np.abs(numbers - eps)).argmin() \n",
    "         return numbers[i]  \n",
    "\n",
    "        \n",
    "#Given\n",
    "k=1.20\n",
    "Epsln=50\n",
    "p1p2=np.arange(10.0,10000.1,0.1)\n",
    "p2p1=p1p2**-1\n",
    "Cf=CfIdeal(k,p2p1)\n",
    "        \n",
    "        \n",
    "Cfcoords=[]\n",
    "Pcoords=[]\n",
    "        \n",
    "for K in(1.1,1.2,1.25,1.3,1.4):\n",
    "    AR=AreaRatio(K,p2p1)\n",
    "    AR=AR.tolist()\n",
    "    Cfcoords.append(CfIdeal(K,p2p1[AR.index(FindEpsln(AR,50))]))\n",
    "            \n",
    "for K in(1.1,1.2,1.25,1.3,1.4):\n",
    "    AR=AreaRatio(K,p2p1)\n",
    "    AR=AR.tolist()\n",
    "    Pcoords.append(p1p2[AR.index(FindEpsln(AR,50))])\n",
    "#Plotting the Graph\n",
    "fig = plt.subplots()\n",
    "color = 'tab:green'\n",
    "plt.plot(p1p2,Cf, color='tab:blue',label='k=1.20')\n",
    "plt.plot(Pcoords,Cfcoords,color='tab:red',label='ε=50')\n",
    "plt.legend(loc='upper left', borderaxespad=0.) #Showing the Graph Legend\n",
    "plt.xlabel('p1/p2')\n",
    "plt.ylabel('Cf')\n",
    "plt.legend(loc='best', borderaxespad=0.) #Showing the Graph Legend\n",
    "plt.xlim([10,10000])#Setting the range for the x-axis\n",
    "plt.xscale('log')\n",
    "plt.ylim([1.2,2.3])\n",
    "plt.title('Figure 3.5 Coefficient of Thrust @ k=1.20 vs. p1/p2 Intersecting ε=50\\n')\n",
    "plt.show()"
   ]
  },
  {
   "cell_type": "code",
   "execution_count": null,
   "metadata": {},
   "outputs": [],
   "source": []
  }
 ],
 "metadata": {
  "kernelspec": {
   "display_name": "Python 3",
   "language": "python",
   "name": "python3"
  },
  "language_info": {
   "codemirror_mode": {
    "name": "ipython",
    "version": 3
   },
   "file_extension": ".py",
   "mimetype": "text/x-python",
   "name": "python",
   "nbconvert_exporter": "python",
   "pygments_lexer": "ipython3",
   "version": "3.7.4"
  }
 },
 "nbformat": 4,
 "nbformat_minor": 2
}
