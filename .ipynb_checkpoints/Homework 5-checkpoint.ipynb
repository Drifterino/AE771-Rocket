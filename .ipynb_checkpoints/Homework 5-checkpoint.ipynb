{
 "cells": [
  {
   "cell_type": "code",
   "execution_count": 1,
   "metadata": {},
   "outputs": [],
   "source": [
    "#Python Initiation\n",
    "import matplotlib\n",
    "import numpy as np\n",
    "import matplotlib.pyplot as plt\n",
    "from scipy.interpolate import make_interp_spline, BSpline\n",
    "import pandas as pd\n",
    "import ipywidgets as widgets\n",
    "import time\n",
    "import math\n",
    "from IPython.display import display\n",
    "\n",
    "#Graph Formatting\n",
    "fig_size = plt.rcParams[\"figure.figsize\"]\n",
    "fig_size[0] = 14\n",
    "fig_size[1] = 10\n",
    "plt.rcParams[\"figure.figsize\"] = fig_size\n",
    "Res=100 #Resoultion of the calulations\n",
    "\n",
    "#Graph Font Edit\n",
    "font = {'family':'Times New Roman',\n",
    "        'weight' : 'bold',\n",
    "        'size'   : 22}\n",
    "matplotlib.rc('font', **font)\n"
   ]
  },
  {
   "cell_type": "markdown",
   "metadata": {},
   "source": [
    "#Homework 5\n",
    "##Plot Figure 3.5 for k=1.2 and an epsilon of 50.\n",
    "\n",
    "##Plot Figure 3.6 for k=1.2 and P1/P3=100.\n",
    "\n",
    "##Complete Example 3.2 and recreate Figure 3.3 using the information from Example 3.2"
   ]
  },
  {
   "cell_type": "code",
   "execution_count": 2,
   "metadata": {},
   "outputs": [
    {
     "data": {
      "image/png": "[encoded data removed]",
      "text/plain": [
       "<Figure size 432x288 with 1 Axes>"
      ]
     },
     "metadata": {
      "needs_background": "light"
     },
     "output_type": "display_data"
    }
   ],
   "source": [
    "#Homework 5\n",
    "\n",
    "    #Figure 3.5\n",
    "    \n",
    "def CfIdeal(k,p2p1):\n",
    "        Cf=(((2*k**2)/(k-1))*(2/(k+1))**((k+1)/(k-1))*(1-(p2p1)**((k-1)/k)))**0.5\n",
    "        return Cf\n",
    "def AreaRatio(k,p2p1):\n",
    "        AR=((k+1)/2)**(1/(k-1))*(p2p1)**(1/k)*(((k+1)/(k-1))*(1-p2p1**((k-1)/k)))**0.5\n",
    "        AR=AR**-1\n",
    "        return AR\n",
    "def FindEpsln(numbers,eps):   \n",
    "         numbers = np.asarray(numbers) \n",
    "         i=(np.abs(numbers - eps)).argmin() \n",
    "         return numbers[i]  \n",
    "\n",
    "        \n",
    "#Given\n",
    "k=1.20\n",
    "Epsln=50\n",
    "p1p2=np.arange(10.0,10000.1,0.1)\n",
    "p2p1=p1p2**-1\n",
    "Cf=CfIdeal(k,p2p1)\n",
    "        \n",
    "        \n",
    "Cfcoords=[]\n",
    "Pcoords=[]\n",
    "        \n",
    "for K in(1.1,1.2,1.25,1.3,1.4):\n",
    "    AR=AreaRatio(K,p2p1)\n",
    "    AR=AR.tolist()\n",
    "    Cfcoords.append(CfIdeal(K,p2p1[AR.index(FindEpsln(AR,50))]))\n",
    "            \n",
    "for K in(1.1,1.2,1.25,1.3,1.4):\n",
    "    AR=AreaRatio(K,p2p1)\n",
    "    AR=AR.tolist()\n",
    "    Pcoords.append(p1p2[AR.index(FindEpsln(AR,50))])\n",
    "#Plotting the Graph\n",
    "fig = plt.subplots()\n",
    "color = 'tab:green'\n",
    "plt.plot(p1p2,Cf, color='tab:blue',label='k=1.20')\n",
    "plt.plot(Pcoords,Cfcoords,color='tab:red',label='ε=50')\n",
    "plt.legend(loc='upper left', borderaxespad=0.) #Showing the Graph Legend\n",
    "plt.xlabel('p1/p2')\n",
    "plt.ylabel('Cf')\n",
    "plt.legend(loc='best', borderaxespad=0.) #Showing the Graph Legend\n",
    "plt.xlim([10,10000])#Setting the range for the x-axis\n",
    "plt.xscale('log')\n",
    "plt.ylim([1.2,2.3])\n",
    "plt.title('Figure 3.5 Coefficient of Thrust @ k=1.20 vs. p1/p2 Intersecting ε=50\\n')\n",
    "plt.show()"
   ]
  },
  {
   "cell_type": "code",
   "execution_count": null,
   "metadata": {},
   "outputs": [],
   "source": [
    "#Example 3.2"
   ]
  }
 ],
 "metadata": {
  "kernelspec": {
   "display_name": "Python 3",
   "language": "python",
   "name": "python3"
  },
  "language_info": {
   "codemirror_mode": {
    "name": "ipython",
    "version": 3
   },
   "file_extension": ".py",
   "mimetype": "text/x-python",
   "name": "python",
   "nbconvert_exporter": "python",
   "pygments_lexer": "ipython3",
   "version": "3.7.4"
  }
 },
 "nbformat": 4,
 "nbformat_minor": 2
}
